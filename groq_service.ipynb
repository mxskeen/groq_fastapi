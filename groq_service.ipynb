{
 "cells": [
  {
   "cell_type": "markdown",
   "metadata": {},
   "source": [
    "hey, created two ways to chat with models/csv files. first is below one in which after running code a box will show up above. you can enter csv file name (add the csv file in this folder) like country_full.csv and chat with it. or press enter to skip csv and go to normal chat. \n",
    "\n",
    "1st way (slower but advanced) :-"
   ]
  },
  {
   "cell_type": "code",
   "execution_count": null,
   "metadata": {},
   "outputs": [],
   "source": [
    "import requests\n",
    "import pandas as pd\n",
    "\n",
    "def call_groq_api(content):\n",
    "    url = \"http://localhost:8000/process\"\n",
    "    response = requests.post(url, json={\"content\": content})\n",
    "    return response.json()\n",
    "\n",
    "def read_and_summarize_csv(file_path):\n",
    "    \"\"\"Read CSV file and return a summary string.\"\"\"\n",
    "    try:\n",
    "        df = pd.read_csv(file_path)\n",
    "        summary = f\"Data Summary:\\n\\n{df.describe(include='all')}\\n\\nFirst few rows:\\n{df.head().to_string()}\"\n",
    "        return summary\n",
    "    except Exception as e:\n",
    "        return f\"Error reading the CSV file: {str(e)}\"\n",
    "\n",
    "if __name__ == \"__main__\":\n",
    "    conversation_history = []\n",
    "    \n",
    "    # Optionally, read and analyze CSV file at the start\n",
    "    file_path = input(\"Enter the path to your CSV file (or press Enter to skip): \")\n",
    "    if file_path:\n",
    "        csv_summary = read_and_summarize_csv(file_path)\n",
    "        print(f\"CSV File Summary:\\n{csv_summary}\\n\")\n",
    "        \n",
    "        # Add CSV summary to the conversation history\n",
    "        conversation_history.append({\"role\": \"user\", \"content\": \"Analyzing the provided CSV file data.\"})\n",
    "        conversation_history.append({\"role\": \"assistant\", \"content\": csv_summary})\n",
    "    \n",
    "    while True:\n",
    "        # Input from the user\n",
    "        content = input(\"You: \")\n",
    "        \n",
    "        # Print user message\n",
    "        print(f\"You: {content}\")\n",
    "        \n",
    "        # Add user input to the conversation history\n",
    "        conversation_history.append({\"role\": \"user\", \"content\": content})\n",
    "        \n",
    "        # Create a full context for the API call including previous conversation\n",
    "        full_context = \"\\n\".join([f\"{entry['role']}: {entry['content']}\" for entry in conversation_history])\n",
    "        \n",
    "        # Call the Groq API with the full context\n",
    "        response = call_groq_api(full_context)\n",
    "        \n",
    "        # Get the assistant's response\n",
    "        assistant_response = response.get('response', 'No response from the API.')\n",
    "        \n",
    "        # Print the API response\n",
    "        print(f\"Groq API: {assistant_response}\")\n",
    "        \n",
    "        # Update conversation history\n",
    "        conversation_history.append({\"role\": \"assistant\", \"content\": assistant_response})\n",
    "\n",
    "        # Optionally break the loop on a specific command\n",
    "        if content.lower() in [\"exit\", \"quit\"]:\n",
    "            break\n"
   ]
  },
  {
   "cell_type": "markdown",
   "metadata": {},
   "source": [
    "2nd way :- (faster but single response csv chat)"
   ]
  },
  {
   "cell_type": "code",
   "execution_count": null,
   "metadata": {},
   "outputs": [],
   "source": [
    "#faster but single response csv chat\n",
    "import requests\n",
    "import pandas as pd\n",
    "\n",
    "def call_groq_api(content):\n",
    "    url = \"http://localhost:8000/process\"\n",
    "    response = requests.post(url, json={\"content\": content})  # Sending content as JSON\n",
    "    return response.json()\n",
    "\n",
    "if __name__ == \"__main__\":\n",
    "    # Load your CSV file\n",
    "    csv_file_path = \"country_full.csv\"  # Change to your CSV file path\n",
    "    df = pd.read_csv(csv_file_path)\n",
    "\n",
    "    # Example: Generate a summary of the DataFrame\n",
    "    content = f\"Analyze the following data:\\n{df.head().to_string()}\"  # Adjust as needed\n",
    "    response = call_groq_api(content)\n",
    "\n",
    "    # Print the formatted response\n",
    "    if 'response' in response:\n",
    "        print(\"Groq API Response:\\n\")\n",
    "        print(response['response'])\n",
    "    else:\n",
    "        print(\"Error in response:\", response)"
   ]
  },
  {
   "cell_type": "code",
   "execution_count": null,
   "metadata": {},
   "outputs": [],
   "source": []
  }
 ],
 "metadata": {
  "kernelspec": {
   "display_name": "Python 3",
   "language": "python",
   "name": "python3"
  },
  "language_info": {
   "codemirror_mode": {
    "name": "ipython",
    "version": 3
   },
   "file_extension": ".py",
   "mimetype": "text/x-python",
   "name": "python",
   "nbconvert_exporter": "python",
   "pygments_lexer": "ipython3",
   "version": "3.10.11"
  }
 },
 "nbformat": 4,
 "nbformat_minor": 2
}
